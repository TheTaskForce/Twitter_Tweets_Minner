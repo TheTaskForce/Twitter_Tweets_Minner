{
 "cells": [
  {
   "cell_type": "code",
   "execution_count": 1,
   "metadata": {},
   "outputs": [],
   "source": [
    "import tweepy\n",
    "\n",
    "import pandas as pd\n",
    "import numpy as np\n",
    "from tweepy import API\n",
    "from tweepy import Cursor"
   ]
  },
  {
   "cell_type": "code",
   "execution_count": 2,
   "metadata": {},
   "outputs": [],
   "source": [
    "#TWITTER CREDENTIALS\n",
    "consumer_key = \"z4LkBh9F3EcTqXgt0UoIppWqw\"\n",
    "consumer_secret = \"EktrU4JUXsOToQL9cpSGIST1fxoh8WNUQPYziSW1HeE7L67lXN\"\n",
    "access_token = \"1162818962100350976-qPhML3kmwGReP2q3di7qP4ooITyj5d\"\n",
    "access_token_secret = \"O0UndzXB6qiPeBOVrW7hcyx64sJhtePsUIN81RFGBHYC6\""
   ]
  },
  {
   "cell_type": "code",
   "execution_count": 3,
   "metadata": {},
   "outputs": [],
   "source": [
    "\n",
    "from tweepy import OAuthHandler\n",
    "\n",
    "class TwitterClient():\n",
    "    def __init__(self,twitter_user = None):\n",
    "        self.auth = TwitterAUth().auth_twitter_app()\n",
    "        self.twitter_client = API(self.auth)\n",
    "        self.twitter_user = twitter_user\n",
    "        \n",
    "    def get_tweets(self, num_tweets):\n",
    "        tweets = []\n",
    "        for tweet in Cursor(self.twitter_client.user_timeline,id = self.twitter_user).items(num_tweets):\n",
    "            tweets.append(tweet)\n",
    "        return tweets\n",
    "    def get_twitter_client_api(self):\n",
    "        return self.twitter_client\n",
    "        \n",
    "    \n",
    "            \n",
    "        \n",
    "class TwitterAUth():\n",
    "    def auth_twitter_app(self):\n",
    "        auth = OAuthHandler(consumer_key, consumer_secret)\n",
    "        auth.set_access_token(access_token, access_token_secret)\n",
    "        return auth\n",
    "        \n",
    "\n",
    "        "
   ]
  },
  {
   "cell_type": "code",
   "execution_count": 4,
   "metadata": {},
   "outputs": [],
   "source": [
    "\n",
    "class analyzer():\n",
    "    def tweets_df(self,tweets):\n",
    "        df = pd.DataFrame(data = [tweet.text for tweet in tweets],columns = ['Tweets'])\n",
    "        df['id'] = np.array([tweet.id for tweet in tweets])\n",
    "        df['source'] = np.array([tweet.source_url for tweet in tweets])\n",
    "        df['Location'] = np.array([tweet.place for tweet in tweets])\n",
    "        df['likes'] = np.array([tweet.favorite_count for tweet in tweets])\n",
    "        df['retweets'] = np.array([tweet.retweet_count  for tweet in tweets])\n",
    "        df['comments'] = np.array([tweet.in_reply_to_user_id_str  for tweet in tweets])\n",
    "        df['Time'] = np.array([tweet.created_at  for tweet in tweets])\n",
    "        \n",
    "        return df\n",
    "    \n",
    "        \n",
    "        \n"
   ]
  },
  {
   "cell_type": "code",
   "execution_count": 5,
   "metadata": {},
   "outputs": [
    {
     "name": "stdout",
     "output_type": "stream",
     "text": [
      "The original source : timesnownews.com\n",
      "                                              Tweets                   id  \\\n",
      "0  Report: PM @narendramodi is believed to have c...  1183310154114187264   \n",
      "1  The Kerala government has announced that the d...  1183306380192681986   \n",
      "2  Check latest @TheOfficialSBI minimum balance r...  1183302604287369216   \n",
      "3  RT @timesnowsports: #INDvsSA, 2nd Test Day 4\\n...  1183302240401932290   \n",
      "4  #DGangNetaLink EXPLODES. Sensational sharehold...  1183301897282736128   \n",
      "5  Political Analyst Subhransh Rai puts forth his...  1183299742157045760   \n",
      "6  Why is Sharad Pawar (@PawarSpeaks) silent on t...  1183299120489889792   \n",
      "7  Nine people were rescued from a five storey re...  1183298829971443713   \n",
      "8  RSS chief @DrMohanBhagwat has said, that only ...  1183295054569304064   \n",
      "9  #Breaking | Union Minister @rsprasad issues cl...  1183293249865207809   \n",
      "\n",
      "                                         source Location  likes  retweets  \\\n",
      "0  https://about.twitter.com/products/tweetdeck     None     10         1   \n",
      "1  https://about.twitter.com/products/tweetdeck     None     12         2   \n",
      "2  https://about.twitter.com/products/tweetdeck     None      3         2   \n",
      "3                    https://mobile.twitter.com     None      0         1   \n",
      "4                    https://studio.twitter.com     None     16        13   \n",
      "5                    https://studio.twitter.com     None     10         2   \n",
      "6                    https://studio.twitter.com     None     16         5   \n",
      "7  https://about.twitter.com/products/tweetdeck     None     11         5   \n",
      "8  https://about.twitter.com/products/tweetdeck     None     94        16   \n",
      "9                    https://studio.twitter.com     None     10         2   \n",
      "\n",
      "  comments                Time  \n",
      "0     None 2019-10-13 09:15:00  \n",
      "1     None 2019-10-13 09:00:00  \n",
      "2     None 2019-10-13 08:45:00  \n",
      "3     None 2019-10-13 08:43:33  \n",
      "4     None 2019-10-13 08:42:11  \n",
      "5     None 2019-10-13 08:33:37  \n",
      "6     None 2019-10-13 08:31:09  \n",
      "7     None 2019-10-13 08:30:00  \n",
      "8     None 2019-10-13 08:15:00  \n",
      "9     None 2019-10-13 08:07:49  \n"
     ]
    }
   ],
   "source": [
    "if __name__ == '__main__' :\n",
    "    \n",
    "    \n",
    "    twitter_client = TwitterClient()\n",
    "    tweet_analyzer = analyzer()\n",
    "     \n",
    "    api = twitter_client.get_twitter_client_api()\n",
    "    tweets = api.user_timeline(screen_name=\"TimesNow\" , count = 100)\n",
    "    df = tweet_analyzer.tweets_df(tweets)\n",
    "    print(\"The original source : timesnownews.com\")\n",
    "    df.to_json(r'\\Tweets.json')    \n",
    "    #print(dir(tweets[0]))\n",
    "    \n",
    "    print(df.head(10))\n",
    "    \n",
    "     "
   ]
  },
  {
   "cell_type": "code",
   "execution_count": null,
   "metadata": {},
   "outputs": [],
   "source": []
  },
  {
   "cell_type": "code",
   "execution_count": null,
   "metadata": {},
   "outputs": [],
   "source": []
  },
  {
   "cell_type": "code",
   "execution_count": null,
   "metadata": {},
   "outputs": [],
   "source": []
  },
  {
   "cell_type": "code",
   "execution_count": null,
   "metadata": {},
   "outputs": [],
   "source": []
  }
 ],
 "metadata": {
  "kernelspec": {
   "display_name": "Python 3",
   "language": "python",
   "name": "python3"
  },
  "language_info": {
   "codemirror_mode": {
    "name": "ipython",
    "version": 3
   },
   "file_extension": ".py",
   "mimetype": "text/x-python",
   "name": "python",
   "nbconvert_exporter": "python",
   "pygments_lexer": "ipython3",
   "version": "3.7.3"
  }
 },
 "nbformat": 4,
 "nbformat_minor": 2
}
